{
 "cells": [
  {
   "cell_type": "code",
   "execution_count": 7,
   "metadata": {
    "colab": {},
    "colab_type": "code",
    "id": "xRjFosCTxI4S",
    "scrolled": true
   },
   "outputs": [
    {
     "name": "stderr",
     "output_type": "stream",
     "text": [
      "Using TensorFlow backend.\n"
     ]
    }
   ],
   "source": [
    "import pandas as pd\n",
    "import numpy as np\n",
    "import matplotlib.pyplot as plt\n",
    "from sklearn.model_selection import train_test_split\n",
    "from nltk.corpus import stopwords\n",
    "from keras.preprocessing.text import Tokenizer\n",
    "import keras.backend as K\n",
    "from keras.preprocessing import sequence\n",
    "from keras.models import Sequential\n",
    "from keras.layers import Dense, LSTM, Embedding\n",
    "from keras.utils import to_categorical\n",
    "from sklearn.metrics import accuracy_score, confusion_matrix, classification_report"
   ]
  },
  {
   "cell_type": "markdown",
   "metadata": {
    "colab_type": "text",
    "id": "Tgu2Fg0bxI4c"
   },
   "source": [
    "## Загрузка данных"
   ]
  },
  {
   "cell_type": "code",
   "execution_count": 12,
   "metadata": {
    "colab": {},
    "colab_type": "code",
    "id": "64dwoIjGxI4e",
    "scrolled": true
   },
   "outputs": [],
   "source": [
    "path_to_data = r'movie_reviews'\n",
    "data = pd.DataFrame()\n",
    "\n",
    "for document in range(12500):\n",
    "    with open(path_to_data + r'/train/neg/{}.txt'.format(document), 'r', encoding='utf-8') as f:\n",
    "        data = data.append(pd.DataFrame({'label': 0, 'txt': [f.read()]}), ignore_index=True)\n",
    "        \n",
    "for document in range(12500):\n",
    "    with open(path_to_data + r'/train/pos/{}.txt'.format(document), 'r', encoding='utf-8') as f:\n",
    "        data = data.append(pd.DataFrame({'label': 1, 'txt': [f.read()]}), ignore_index=True)"
   ]
  },
  {
   "cell_type": "code",
   "execution_count": 14,
   "metadata": {
    "colab": {},
    "colab_type": "code",
    "id": "V0G0jbg8xI4k",
    "scrolled": true
   },
   "outputs": [],
   "source": [
    "test = pd.DataFrame()\n",
    "\n",
    "for document in range(25000):\n",
    "    with open(path_to_data + r'/test/{}.txt'.format(document), 'r', encoding='utf-8') as f:\n",
    "        test = test.append(pd.DataFrame({'label': [-1], 'txt': [f.read()]}), ignore_index=True)"
   ]
  },
  {
   "cell_type": "code",
   "execution_count": 15,
   "metadata": {
    "colab": {},
    "colab_type": "code",
    "id": "VYQ-3O4hxI4q",
    "scrolled": true
   },
   "outputs": [],
   "source": [
    "unsup = pd.DataFrame()\n",
    "\n",
    "for document in range(50000):\n",
    "    with open(path_to_data + r'/unsup/{}_0.txt'.format(document), 'r', encoding='utf-8') as f:\n",
    "        unsup = unsup.append(pd.DataFrame({'label': [-1], 'txt': [f.read()]}), ignore_index=True)"
   ]
  },
  {
   "cell_type": "code",
   "execution_count": 16,
   "metadata": {
    "colab": {},
    "colab_type": "code",
    "id": "Bdxxi1olxI44"
   },
   "outputs": [],
   "source": [
    "data.to_csv(r'train.csv', index=False)\n",
    "test.to_csv(r'test.csv', index=False)\n",
    "unsup.to_csv(r'unsup.csv', index=False)"
   ]
  },
  {
   "cell_type": "markdown",
   "metadata": {
    "colab_type": "text",
    "id": "aLnHQHAcxI4_"
   },
   "source": [
    "## Загрузка размеченых данных"
   ]
  },
  {
   "cell_type": "code",
   "execution_count": 18,
   "metadata": {
    "colab": {},
    "colab_type": "code",
    "id": "W37BFeOvxI5B",
    "scrolled": true
   },
   "outputs": [],
   "source": [
    "data = pd.read_csv(r'train.csv')\n",
    "test = pd.read_csv(r'test.csv')\n",
    "unsup = pd.read_csv(r'unsup.csv')\n",
    "\n",
    "data_rating_pos = pd.read_csv(r'neg_rating.csv')\n",
    "data_rating_neg = pd.read_csv(r'pos_rating.csv')"
   ]
  },
  {
   "cell_type": "code",
   "execution_count": 19,
   "metadata": {
    "colab": {},
    "colab_type": "code",
    "id": "UtMnKHy7Lqh7"
   },
   "outputs": [],
   "source": [
    "data_rating = pd.concat([data_rating_pos,data_rating_neg], axis=0)"
   ]
  },
  {
   "cell_type": "code",
   "execution_count": 21,
   "metadata": {
    "colab": {},
    "colab_type": "code",
    "id": "HhK7fo0EMn3b"
   },
   "outputs": [],
   "source": [
    "data_for_ratings = data.txt"
   ]
  },
  {
   "cell_type": "code",
   "execution_count": 23,
   "metadata": {
    "colab": {},
    "colab_type": "code",
    "id": "xaFHjSqOOAFy"
   },
   "outputs": [],
   "source": [
    "only_rating = data_rating.rating"
   ]
  },
  {
   "cell_type": "code",
   "execution_count": 24,
   "metadata": {
    "colab": {
     "base_uri": "https://localhost:8080/",
     "height": 170
    },
    "colab_type": "code",
    "id": "Rxo3U1eLO5WF",
    "outputId": "bbd91779-03d9-437e-87e5-3cd84ed311ca"
   },
   "outputs": [
    {
     "data": {
      "text/plain": [
       "1     4994\n",
       "10    4858\n",
       "8     2931\n",
       "4     2605\n",
       "3     2586\n",
       "7     2466\n",
       "2     2315\n",
       "9     2245\n",
       "Name: rating, dtype: int64"
      ]
     },
     "execution_count": 24,
     "metadata": {},
     "output_type": "execute_result"
    }
   ],
   "source": [
    "only_rating.value_counts()"
   ]
  },
  {
   "cell_type": "code",
   "execution_count": 25,
   "metadata": {
    "colab": {},
    "colab_type": "code",
    "id": "-VdqXDmxxI5H"
   },
   "outputs": [],
   "source": [
    "X = data['txt']\n",
    "y = data['label']"
   ]
  },
  {
   "cell_type": "code",
   "execution_count": 37,
   "metadata": {
    "colab": {},
    "colab_type": "code",
    "id": "JI16KbsnxI5N"
   },
   "outputs": [],
   "source": [
    "X_train, X_val, y_train, y_val = train_test_split(X, y, test_size=0.23, stratify=y)\n",
    "\n",
    "X_train_raiting, X_val_raiting, y_train_raiting, y_val_raiting = train_test_split(data_for_ratings, only_rating, test_size=0.23, stratify=only_rating)"
   ]
  },
  {
   "cell_type": "code",
   "execution_count": 38,
   "metadata": {
    "colab": {},
    "colab_type": "code",
    "id": "AQ7TBBfkxI5Y"
   },
   "outputs": [],
   "source": [
    "tokenizer = Tokenizer(num_words=14000)\n",
    "tokenizer.fit_on_texts(list(X_train))\n",
    "X_train = tokenizer.texts_to_sequences(X_train)\n",
    "X_val = tokenizer.texts_to_sequences(X_val)"
   ]
  },
  {
   "cell_type": "code",
   "execution_count": null,
   "metadata": {},
   "outputs": [],
   "source": [
    "X_train"
   ]
  },
  {
   "cell_type": "code",
   "execution_count": 29,
   "metadata": {
    "colab": {},
    "colab_type": "code",
    "id": "TZgX_eiePQKH"
   },
   "outputs": [],
   "source": [
    "tokenizer2 = Tokenizer(num_words=14000)\n",
    "\n",
    "tokenizer2.fit_on_texts(list(X_train_raiting))\n",
    "X_train_raiting = tokenizer2.texts_to_sequences(X_train_raiting)\n",
    "X_val_raiting = tokenizer2.texts_to_sequences(X_val_raiting)"
   ]
  },
  {
   "cell_type": "code",
   "execution_count": 30,
   "metadata": {
    "colab": {},
    "colab_type": "code",
    "id": "5J6MiZjLxI5e"
   },
   "outputs": [],
   "source": [
    "max_words = 1000\n",
    "X_train = sequence.pad_sequences(X_train, maxlen=max_words)\n",
    "X_val = sequence.pad_sequences(X_val, maxlen=max_words)"
   ]
  },
  {
   "cell_type": "code",
   "execution_count": 31,
   "metadata": {
    "colab": {},
    "colab_type": "code",
    "id": "-OSaphI6PkQq"
   },
   "outputs": [],
   "source": [
    "max_words = 1000\n",
    "X_train_raiting = sequence.pad_sequences(X_train_raiting, maxlen=max_words)\n",
    "X_val_raiting = sequence.pad_sequences(X_val_raiting, maxlen=max_words)"
   ]
  },
  {
   "cell_type": "code",
   "execution_count": 32,
   "metadata": {
    "colab": {},
    "colab_type": "code",
    "id": "iZuGcU2hQLc_"
   },
   "outputs": [],
   "source": [
    "y_train_raiting_dummy = to_categorical(y_train_raiting, 11)\n",
    "y_val_raiting_dummy = to_categorical(y_val_raiting, 11)"
   ]
  },
  {
   "cell_type": "code",
   "execution_count": 202,
   "metadata": {
    "colab": {
     "base_uri": "https://localhost:8080/",
     "height": 119
    },
    "colab_type": "code",
    "id": "Mv3S2hOzRC92",
    "outputId": "62cd737a-ec62-402f-c009-1c6933b79ce2"
   },
   "outputs": [
    {
     "data": {
      "text/plain": [
       "3183     10\n",
       "11253     2\n",
       "6118      1\n",
       "11515     9\n",
       "2474      3\n",
       "Name: rating, dtype: int64"
      ]
     },
     "execution_count": 202,
     "metadata": {
      "tags": []
     },
     "output_type": "execute_result"
    }
   ],
   "source": [
    "y_train_raiting.head()"
   ]
  },
  {
   "cell_type": "code",
   "execution_count": 203,
   "metadata": {
    "colab": {
     "base_uri": "https://localhost:8080/",
     "height": 51
    },
    "colab_type": "code",
    "id": "3UVPAaGcRQuf",
    "outputId": "dcf7f64e-3aac-4d1d-b4c0-c8a082911eda"
   },
   "outputs": [
    {
     "name": "stdout",
     "output_type": "stream",
     "text": [
      "[0. 0. 0. 0. 0. 0. 0. 0. 0. 0. 1.]\n",
      "[0. 0. 1. 0. 0. 0. 0. 0. 0. 0. 0.]\n"
     ]
    }
   ],
   "source": [
    "print(y_train_raiting_dummy[0])\n",
    "print(y_train_raiting_dummy[1])"
   ]
  },
  {
   "cell_type": "markdown",
   "metadata": {},
   "source": [
    "я не удалял стоп слова, потому что они иногда хорошо влияют на контекст"
   ]
  },
  {
   "cell_type": "markdown",
   "metadata": {
    "colab_type": "text",
    "id": "HlkhlGhwxI5k"
   },
   "source": [
    "### LSTM with Glove Embedding (одна модель предиктит метки класа, вторая рейтинг)"
   ]
  },
  {
   "cell_type": "code",
   "execution_count": 0,
   "metadata": {
    "colab": {},
    "colab_type": "code",
    "id": "KoAxdEuaxI5y"
   },
   "outputs": [],
   "source": [
    "def model_train(model):\n",
    "    model_history = model.fit(X_train, y_train, validation_data=(X_val, y_val), \n",
    "                          epochs=epochs, batch_size=batch_size, verbose=1)\n",
    "    plot_model_history(model_history)"
   ]
  },
  {
   "cell_type": "code",
   "execution_count": 0,
   "metadata": {
    "colab": {},
    "colab_type": "code",
    "id": "rfjuqPzcSiI9"
   },
   "outputs": [],
   "source": [
    "def model_ratings_train(model):\n",
    "    model_history = model.fit(X_train_raiting, y_train_raiting_dummy, validation_data=(X_val_raiting, y_val_raiting_dummy), \n",
    "                          epochs=epochs, batch_size=batch_size, verbose=1)\n",
    "    plot_model_history(model_history)"
   ]
  },
  {
   "cell_type": "code",
   "execution_count": 0,
   "metadata": {
    "colab": {},
    "colab_type": "code",
    "id": "z0bVrI9NxI54"
   },
   "outputs": [],
   "source": [
    "def plot_model_history(model_history):\n",
    "    fig, axs = plt.subplots(1,2,figsize=(15,5))\n",
    "    \n",
    "    axs[0].plot(range(1,len(model_history.history['acc'])+1),model_history.history['acc'])\n",
    "    axs[0].plot(range(1,len(model_history.history['val_acc'])+1),model_history.history['val_acc'])\n",
    "    axs[0].set_title('Model Accuracy')\n",
    "    axs[0].set_ylabel('Accuracy')\n",
    "    axs[0].set_xlabel('Epoch')\n",
    "    axs[0].set_xticks(np.arange(1,len(model_history.history['acc'])+1),len(model_history.history['acc'])/10)\n",
    "    axs[0].legend(['train', 'val'], loc='best')\n",
    "\n",
    "    axs[1].plot(range(1,len(model_history.history['loss'])+1),model_history.history['loss'])\n",
    "    axs[1].plot(range(1,len(model_history.history['val_loss'])+1),model_history.history['val_loss'])\n",
    "    axs[1].set_title('Model Loss')\n",
    "    axs[1].set_ylabel('Loss')\n",
    "    axs[1].set_xlabel('Epoch')\n",
    "    axs[1].set_xticks(np.arange(1,len(model_history.history['loss'])+1),len(model_history.history['loss'])/10)\n",
    "    axs[1].legend(['train', 'val'], loc='best')\n",
    "    plt.show()"
   ]
  },
  {
   "cell_type": "code",
   "execution_count": 0,
   "metadata": {
    "colab": {},
    "colab_type": "code",
    "id": "xrw9P-gnxI59"
   },
   "outputs": [],
   "source": [
    "def model_evaluate(): \n",
    "\n",
    "    y_pred_val =  model.predict_classes(X_val, batch_size=batch_size, verbose=0)\n",
    "    print('Accuracy:\\t{:0.1f}%'.format(accuracy_score(y_val, y_pred_val)*100))\n",
    "    \n",
    "\n",
    "    print('\\n')\n",
    "    print(classification_report(y_val, y_pred_val))\n",
    "\n",
    "\n",
    "    confmat = confusion_matrix(y_val, y_pred_val)\n",
    "\n",
    "    fig, ax = plt.subplots(figsize=(4, 4))\n",
    "    ax.matshow(confmat, cmap=plt.cm.Blues, alpha=0.3)\n",
    "    for i in range(confmat.shape[0]):\n",
    "        for j in range(confmat.shape[1]):\n",
    "            ax.text(x=j, y=i, s=confmat[i, j], va='center', ha='center')\n",
    "    plt.xlabel('Predicted label')\n",
    "    plt.ylabel('True label')\n",
    "    plt.tight_layout()"
   ]
  },
  {
   "cell_type": "code",
   "execution_count": 0,
   "metadata": {
    "colab": {},
    "colab_type": "code",
    "id": "2RS0EWJaSMzv"
   },
   "outputs": [],
   "source": [
    "def model_raitings_evaluate(): \n",
    "\n",
    "    y_pred_val =  model.predict_classes(X_val_raiting, batch_size=batch_size, verbose=0)\n",
    "    print('Accuracy:\\t{:0.1f}%'.format(accuracy_score(y_val_raiting, y_pred_val)*100))"
   ]
  },
  {
   "cell_type": "code",
   "execution_count": 0,
   "metadata": {
    "colab": {},
    "colab_type": "code",
    "id": "qqfmTIyNxI6C"
   },
   "outputs": [],
   "source": [
    "def get_coefs(word, *arr):\n",
    "    return word, np.asarray(arr, dtype='float32')\n",
    "    \n",
    "def get_embed_mat(EMBEDDING_FILE, max_features=20000):\n",
    "    embeddings_index = dict(get_coefs(*o.rstrip().rsplit(' ')) for o in open(EMBEDDING_FILE, encoding='utf8'))\n",
    "    print('Found %s word vectors.' % len(embeddings_index))\n",
    "\n",
    "    word_index = tokenizer.word_index\n",
    "    num_words = min(max_features, len(word_index) + 1)\n",
    "    all_embs = np.stack(embeddings_index.values()) #for random init\n",
    "    embedding_matrix = np.random.normal(all_embs.mean(), all_embs.std(), \n",
    "                                        (num_words, embed_dim))\n",
    "    for word, i in word_index.items():\n",
    "        if i >= max_features:\n",
    "            continue\n",
    "        embedding_vector = embeddings_index.get(word)\n",
    "        if embedding_vector is not None:\n",
    "            embedding_matrix[i] = embedding_vector\n",
    "    max_features = embedding_matrix.shape[0]\n",
    "    \n",
    "    return max_features, embedding_matrix"
   ]
  },
  {
   "cell_type": "code",
   "execution_count": 0,
   "metadata": {
    "colab": {},
    "colab_type": "code",
    "id": "C8QXq4KVxI6L"
   },
   "outputs": [],
   "source": [
    "def get_model(max_features, embed_dim, embedding_matrix):\n",
    "    np.random.seed(42)\n",
    "    K.clear_session()\n",
    "    model = Sequential()\n",
    "    model.add(Embedding(max_features, embed_dim, input_length=X_train.shape[1],\n",
    "                       weights=[embedding_matrix]))#,trainable=False\n",
    "    model.add(LSTM(100, dropout=0.2, recurrent_dropout=0.2))\n",
    "    model.add(Dense(1, activation='sigmoid'))\n",
    "    model.compile(loss='binary_crossentropy', optimizer='adam', metrics=['accuracy'])\n",
    "    print(model.summary())\n",
    "    return model"
   ]
  },
  {
   "cell_type": "code",
   "execution_count": 0,
   "metadata": {
    "colab": {},
    "colab_type": "code",
    "id": "3uZaNmtrRvB5"
   },
   "outputs": [],
   "source": [
    "def get_model_raitings(max_features, embed_dim, embedding_matrix):\n",
    "    np.random.seed(42)\n",
    "    K.clear_session()\n",
    "    model = Sequential()\n",
    "    model.add(Embedding(max_features, embed_dim, input_length=X_train_raiting.shape[1],\n",
    "                       weights=[embedding_matrix]))#,trainable=False\n",
    "    model.add(LSTM(100, dropout=0.2, recurrent_dropout=0.2))\n",
    "    model.add(Dense(11, activation='softmax'))\n",
    "    model.compile(loss='categorical_crossentropy', optimizer='adam', metrics=['accuracy'])\n",
    "    print(model.summary())\n",
    "    return model"
   ]
  },
  {
   "cell_type": "markdown",
   "metadata": {},
   "source": [
    "## Модель для меток на 5 епох"
   ]
  },
  {
   "cell_type": "code",
   "execution_count": 0,
   "metadata": {
    "colab": {
     "base_uri": "https://localhost:8080/",
     "height": 811
    },
    "colab_type": "code",
    "id": "94POYeW3xI6R",
    "outputId": "7d01b539-f91c-4d37-e183-2cf4d0ee4a55"
   },
   "outputs": [
    {
     "name": "stdout",
     "output_type": "stream",
     "text": [
      "Found 400000 word vectors.\n",
      "_________________________________________________________________\n",
      "Layer (type)                 Output Shape              Param #   \n",
      "=================================================================\n",
      "embedding_1 (Embedding)      (None, 1000, 100)         2000000   \n",
      "_________________________________________________________________\n",
      "lstm_1 (LSTM)                (None, 100)               80400     \n",
      "_________________________________________________________________\n",
      "dense_1 (Dense)              (None, 1)                 101       \n",
      "=================================================================\n",
      "Total params: 2,080,501\n",
      "Trainable params: 2,080,501\n",
      "Non-trainable params: 0\n",
      "_________________________________________________________________\n",
      "None\n",
      "Train on 19250 samples, validate on 5750 samples\n",
      "Epoch 1/5\n",
      "19250/19250 [==============================] - 238s 12ms/step - loss: 0.6265 - acc: 0.6434 - val_loss: 0.5321 - val_acc: 0.7332\n",
      "Epoch 2/5\n",
      "19250/19250 [==============================] - 237s 12ms/step - loss: 0.5225 - acc: 0.7460 - val_loss: 0.5686 - val_acc: 0.6943\n",
      "Epoch 3/5\n",
      "19250/19250 [==============================] - 236s 12ms/step - loss: 0.4498 - acc: 0.7961 - val_loss: 0.3671 - val_acc: 0.8433\n",
      "Epoch 4/5\n",
      "19250/19250 [==============================] - 237s 12ms/step - loss: 0.3680 - acc: 0.8429 - val_loss: 0.3365 - val_acc: 0.8590\n",
      "Epoch 5/5\n",
      "19250/19250 [==============================] - 236s 12ms/step - loss: 0.2980 - acc: 0.8771 - val_loss: 0.2798 - val_acc: 0.8857\n"
     ]
    },
    {
     "data": {
      "image/png": "[encoded data removed]",
      "text/plain": [
       "<matplotlib.figure.Figure at 0x7f777dfd0630>"
      ]
     },
     "metadata": {
      "tags": []
     },
     "output_type": "display_data"
    }
   ],
   "source": [
    "batch_size = 256\n",
    "epochs = 5\n",
    "embed_dim = 100\n",
    "EMBEDDING_FILE = r'your_path/glove.6B.100d.txt'\n",
    "\n",
    "max_features, embedding_matrix = get_embed_mat(EMBEDDING_FILE)\n",
    "\n",
    "model = get_model(max_features, embed_dim, embedding_matrix)\n",
    "model_train(model)"
   ]
  },
  {
   "cell_type": "markdown",
   "metadata": {},
   "source": [
    "## Модель для рейтинга на 5 епох"
   ]
  },
  {
   "cell_type": "code",
   "execution_count": 212,
   "metadata": {
    "colab": {
     "base_uri": "https://localhost:8080/",
     "height": 791
    },
    "colab_type": "code",
    "id": "iJ_cfqDPR5Z-",
    "outputId": "fecfb33d-cb45-4c6c-eb14-434e0e4f22ed"
   },
   "outputs": [
    {
     "name": "stdout",
     "output_type": "stream",
     "text": [
      "Found 400000 word vectors.\n",
      "_________________________________________________________________\n",
      "Layer (type)                 Output Shape              Param #   \n",
      "=================================================================\n",
      "embedding_1 (Embedding)      (None, 1000, 100)         2000000   \n",
      "_________________________________________________________________\n",
      "lstm_1 (LSTM)                (None, 100)               80400     \n",
      "_________________________________________________________________\n",
      "dense_1 (Dense)              (None, 11)                1111      \n",
      "=================================================================\n",
      "Total params: 2,081,511\n",
      "Trainable params: 2,081,511\n",
      "Non-trainable params: 0\n",
      "_________________________________________________________________\n",
      "None\n",
      "Train on 19250 samples, validate on 5750 samples\n",
      "Epoch 1/5\n",
      "19250/19250 [==============================] - 253s 13ms/step - loss: 2.0651 - acc: 0.2025 - val_loss: 2.0256 - val_acc: 0.2113\n",
      "Epoch 2/5\n",
      "19250/19250 [==============================] - 252s 13ms/step - loss: 2.0011 - acc: 0.2374 - val_loss: 1.9889 - val_acc: 0.2532\n",
      "Epoch 3/5\n",
      "19250/19250 [==============================] - 254s 13ms/step - loss: 1.9291 - acc: 0.2828 - val_loss: 1.8777 - val_acc: 0.3130\n",
      "Epoch 4/5\n",
      "19250/19250 [==============================] - 254s 13ms/step - loss: 1.7905 - acc: 0.3426 - val_loss: 1.6765 - val_acc: 0.3795\n",
      "Epoch 5/5\n",
      "19250/19250 [==============================] - 254s 13ms/step - loss: 1.6278 - acc: 0.3948 - val_loss: 1.6940 - val_acc: 0.3784\n"
     ]
    },
    {
     "data": {
      "image/png": "[encoded data removed]",
      "text/plain": [
       "<matplotlib.figure.Figure at 0x7f817058c208>"
      ]
     },
     "metadata": {
      "tags": []
     },
     "output_type": "display_data"
    }
   ],
   "source": [
    "batch_size = 256\n",
    "epochs = 5\n",
    "embed_dim = 100\n",
    "EMBEDDING_FILE = r'your_path\\glove.6B.100d.txt'\n",
    "\n",
    "max_features, embedding_matrix = get_embed_mat(EMBEDDING_FILE)\n",
    "\n",
    "model_rating = get_model_raitings(max_features, embed_dim, embedding_matrix)\n",
    "model_ratings_train(model_rating)"
   ]
  },
  {
   "cell_type": "markdown",
   "metadata": {},
   "source": [
    "## Модель для меток на 6 епох"
   ]
  },
  {
   "cell_type": "code",
   "execution_count": 0,
   "metadata": {
    "colab": {
     "base_uri": "https://localhost:8080/",
     "height": 845
    },
    "colab_type": "code",
    "id": "i0iTlBSmxI6g",
    "outputId": "0d2d1081-b67e-4cb1-c553-a74096f71ab5",
    "scrolled": false
   },
   "outputs": [
    {
     "name": "stdout",
     "output_type": "stream",
     "text": [
      "Found 400000 word vectors.\n",
      "_________________________________________________________________\n",
      "Layer (type)                 Output Shape              Param #   \n",
      "=================================================================\n",
      "embedding_1 (Embedding)      (None, 1000, 100)         2000000   \n",
      "_________________________________________________________________\n",
      "lstm_1 (LSTM)                (None, 100)               80400     \n",
      "_________________________________________________________________\n",
      "dense_1 (Dense)              (None, 1)                 101       \n",
      "=================================================================\n",
      "Total params: 2,080,501\n",
      "Trainable params: 2,080,501\n",
      "Non-trainable params: 0\n",
      "_________________________________________________________________\n",
      "None\n",
      "Train on 19250 samples, validate on 5750 samples\n",
      "Epoch 1/6\n",
      "19250/19250 [==============================] - 238s 12ms/step - loss: 0.6279 - acc: 0.6415 - val_loss: 0.4986 - val_acc: 0.7680\n",
      "Epoch 2/6\n",
      "19250/19250 [==============================] - 236s 12ms/step - loss: 0.5057 - acc: 0.7578 - val_loss: 0.4142 - val_acc: 0.8177\n",
      "Epoch 3/6\n",
      "19250/19250 [==============================] - 236s 12ms/step - loss: 0.4613 - acc: 0.7826 - val_loss: 0.3746 - val_acc: 0.8390\n",
      "Epoch 4/6\n",
      "19250/19250 [==============================] - 238s 12ms/step - loss: 0.3705 - acc: 0.8402 - val_loss: 0.3174 - val_acc: 0.8664\n",
      "Epoch 5/6\n",
      "19250/19250 [==============================] - 237s 12ms/step - loss: 0.3022 - acc: 0.8741 - val_loss: 0.2877 - val_acc: 0.8779\n",
      "Epoch 6/6\n",
      "19250/19250 [==============================] - 235s 12ms/step - loss: 0.2549 - acc: 0.8982 - val_loss: 0.2763 - val_acc: 0.8838\n"
     ]
    },
    {
     "data": {
      "image/png": "[encoded data removed]",
      "text/plain": [
       "<matplotlib.figure.Figure at 0x7f779040afd0>"
      ]
     },
     "metadata": {
      "tags": []
     },
     "output_type": "display_data"
    }
   ],
   "source": [
    "batch_size = 256\n",
    "epochs = 6\n",
    "\n",
    "max_features, embedding_matrix = get_embed_mat(EMBEDDING_FILE)\n",
    "\n",
    "model = get_model(max_features, embed_dim, embedding_matrix)\n",
    "model_train(model)"
   ]
  },
  {
   "cell_type": "code",
   "execution_count": 0,
   "metadata": {
    "colab": {},
    "colab_type": "code",
    "id": "CsAkYdd-xI6n"
   },
   "outputs": [],
   "source": [
    "X_test = tokenizer.texts_to_sequences(test['txt'])\n",
    "X_unsup = tokenizer.texts_to_sequences(unsup['txt'])"
   ]
  },
  {
   "cell_type": "code",
   "execution_count": 0,
   "metadata": {
    "colab": {},
    "colab_type": "code",
    "id": "8cUdMzupxI6s"
   },
   "outputs": [],
   "source": [
    "X_test = sequence.pad_sequences(X_test, maxlen=max_words)\n",
    "X_unsup = sequence.pad_sequences(X_unsup, maxlen=max_words)"
   ]
  },
  {
   "cell_type": "code",
   "execution_count": 0,
   "metadata": {
    "colab": {
     "base_uri": "https://localhost:8080/",
     "height": 34
    },
    "colab_type": "code",
    "id": "lyTHyjruxI6x",
    "outputId": "1840f03e-672b-4554-b93f-d13e814d563d"
   },
   "outputs": [
    {
     "data": {
      "text/plain": [
       "((25000, 1000), (50000, 1000))"
      ]
     },
     "execution_count": 29,
     "metadata": {
      "tags": []
     },
     "output_type": "execute_result"
    }
   ],
   "source": [
    "X_test.shape, X_unsup.shape"
   ]
  },
  {
   "cell_type": "code",
   "execution_count": 0,
   "metadata": {
    "colab": {
     "base_uri": "https://localhost:8080/",
     "height": 204
    },
    "colab_type": "code",
    "id": "nf-5-ObIxI69",
    "outputId": "cb0c0979-4307-48a7-c487-f0b5afe51b90",
    "scrolled": true
   },
   "outputs": [
    {
     "data": {
      "text/html": [
       "<div>\n",
       "<style scoped>\n",
       "    .dataframe tbody tr th:only-of-type {\n",
       "        vertical-align: middle;\n",
       "    }\n",
       "\n",
       "    .dataframe tbody tr th {\n",
       "        vertical-align: top;\n",
       "    }\n",
       "\n",
       "    .dataframe thead th {\n",
       "        text-align: right;\n",
       "    }\n",
       "</style>\n",
       "<table border=\"1\" class=\"dataframe\">\n",
       "  <thead>\n",
       "    <tr style=\"text-align: right;\">\n",
       "      <th></th>\n",
       "      <th>label</th>\n",
       "      <th>txt</th>\n",
       "    </tr>\n",
       "  </thead>\n",
       "  <tbody>\n",
       "    <tr>\n",
       "      <th>0</th>\n",
       "      <td>-1</td>\n",
       "      <td>Drug runner Archie Moses introduces his friend...</td>\n",
       "    </tr>\n",
       "    <tr>\n",
       "      <th>1</th>\n",
       "      <td>-1</td>\n",
       "      <td>Before Sunrise is romance for the slacker gene...</td>\n",
       "    </tr>\n",
       "    <tr>\n",
       "      <th>2</th>\n",
       "      <td>-1</td>\n",
       "      <td>A Three Stooges short, this one featuring Shem...</td>\n",
       "    </tr>\n",
       "    <tr>\n",
       "      <th>3</th>\n",
       "      <td>-1</td>\n",
       "      <td>I saw this film for one reason: the tagline is...</td>\n",
       "    </tr>\n",
       "    <tr>\n",
       "      <th>4</th>\n",
       "      <td>-1</td>\n",
       "      <td>A woman (Sylvia Kristel) seduces a 15 year old...</td>\n",
       "    </tr>\n",
       "  </tbody>\n",
       "</table>\n",
       "</div>"
      ],
      "text/plain": [
       "   label                                                txt\n",
       "0     -1  Drug runner Archie Moses introduces his friend...\n",
       "1     -1  Before Sunrise is romance for the slacker gene...\n",
       "2     -1  A Three Stooges short, this one featuring Shem...\n",
       "3     -1  I saw this film for one reason: the tagline is...\n",
       "4     -1  A woman (Sylvia Kristel) seduces a 15 year old..."
      ]
     },
     "execution_count": 30,
     "metadata": {
      "tags": []
     },
     "output_type": "execute_result"
    }
   ],
   "source": [
    "test.head()"
   ]
  },
  {
   "cell_type": "markdown",
   "metadata": {
    "colab_type": "text",
    "id": "y0UxwqM6xI7E"
   },
   "source": [
    "## Предикшн на unsup и test Используем модели на 5 епох"
   ]
  },
  {
   "cell_type": "code",
   "execution_count": 0,
   "metadata": {
    "colab": {},
    "colab_type": "code",
    "id": "c3-wFz0WxI7F"
   },
   "outputs": [],
   "source": [
    "test['id'] = test.index.values\n",
    "\n",
    "test['label'] = model.predict_classes(X_test, batch_size=batch_size)\n"
   ]
  },
  {
   "cell_type": "code",
   "execution_count": 0,
   "metadata": {
    "colab": {
     "base_uri": "https://localhost:8080/",
     "height": 514
    },
    "colab_type": "code",
    "id": "ZY79lTb-xI7L",
    "outputId": "4ee87d49-2d87-4d77-a5cd-610b7c101a0c"
   },
   "outputs": [
    {
     "data": {
      "text/html": [
       "<div>\n",
       "<style scoped>\n",
       "    .dataframe tbody tr th:only-of-type {\n",
       "        vertical-align: middle;\n",
       "    }\n",
       "\n",
       "    .dataframe tbody tr th {\n",
       "        vertical-align: top;\n",
       "    }\n",
       "\n",
       "    .dataframe thead th {\n",
       "        text-align: right;\n",
       "    }\n",
       "</style>\n",
       "<table border=\"1\" class=\"dataframe\">\n",
       "  <thead>\n",
       "    <tr style=\"text-align: right;\">\n",
       "      <th></th>\n",
       "      <th>label</th>\n",
       "      <th>txt</th>\n",
       "      <th>id</th>\n",
       "    </tr>\n",
       "  </thead>\n",
       "  <tbody>\n",
       "    <tr>\n",
       "      <th>1430</th>\n",
       "      <td>1</td>\n",
       "      <td>When I first saw this movie,I also expected \"o...</td>\n",
       "      <td>1430</td>\n",
       "    </tr>\n",
       "    <tr>\n",
       "      <th>5129</th>\n",
       "      <td>0</td>\n",
       "      <td>This movie is written by Charlie Higson, who h...</td>\n",
       "      <td>5129</td>\n",
       "    </tr>\n",
       "    <tr>\n",
       "      <th>10324</th>\n",
       "      <td>1</td>\n",
       "      <td>This movie is really funny!! The General is Ke...</td>\n",
       "      <td>10324</td>\n",
       "    </tr>\n",
       "    <tr>\n",
       "      <th>14925</th>\n",
       "      <td>1</td>\n",
       "      <td>Personal taste rules when it comes to talking ...</td>\n",
       "      <td>14925</td>\n",
       "    </tr>\n",
       "    <tr>\n",
       "      <th>17698</th>\n",
       "      <td>1</td>\n",
       "      <td>I watched this movie as a child and still enjo...</td>\n",
       "      <td>17698</td>\n",
       "    </tr>\n",
       "    <tr>\n",
       "      <th>22937</th>\n",
       "      <td>1</td>\n",
       "      <td>Truly I Love Lucy as well...comedic genius yes...</td>\n",
       "      <td>22937</td>\n",
       "    </tr>\n",
       "    <tr>\n",
       "      <th>13442</th>\n",
       "      <td>1</td>\n",
       "      <td>Hey guys, &lt;br /&gt;&lt;br /&gt;i have been looking ever...</td>\n",
       "      <td>13442</td>\n",
       "    </tr>\n",
       "    <tr>\n",
       "      <th>5260</th>\n",
       "      <td>0</td>\n",
       "      <td>hey ....i really do not know why this film has...</td>\n",
       "      <td>5260</td>\n",
       "    </tr>\n",
       "    <tr>\n",
       "      <th>10539</th>\n",
       "      <td>1</td>\n",
       "      <td>Out of the first five episodes of Hammer's sho...</td>\n",
       "      <td>10539</td>\n",
       "    </tr>\n",
       "    <tr>\n",
       "      <th>13652</th>\n",
       "      <td>1</td>\n",
       "      <td>This was my first Gaspar Noe movie I've watche...</td>\n",
       "      <td>13652</td>\n",
       "    </tr>\n",
       "    <tr>\n",
       "      <th>3980</th>\n",
       "      <td>1</td>\n",
       "      <td>For the very reason that I love movies such as...</td>\n",
       "      <td>3980</td>\n",
       "    </tr>\n",
       "    <tr>\n",
       "      <th>16678</th>\n",
       "      <td>1</td>\n",
       "      <td>The incomparable Paul Naschy, horror film icon...</td>\n",
       "      <td>16678</td>\n",
       "    </tr>\n",
       "    <tr>\n",
       "      <th>10809</th>\n",
       "      <td>1</td>\n",
       "      <td>Saw this as previous viewer by accident, I hav...</td>\n",
       "      <td>10809</td>\n",
       "    </tr>\n",
       "    <tr>\n",
       "      <th>7161</th>\n",
       "      <td>0</td>\n",
       "      <td>I wanted to like this film, and certainly ther...</td>\n",
       "      <td>7161</td>\n",
       "    </tr>\n",
       "    <tr>\n",
       "      <th>14378</th>\n",
       "      <td>1</td>\n",
       "      <td>Did you know, that Anthony Kiedis, (singer fro...</td>\n",
       "      <td>14378</td>\n",
       "    </tr>\n",
       "  </tbody>\n",
       "</table>\n",
       "</div>"
      ],
      "text/plain": [
       "       label                                                txt     id\n",
       "1430       1  When I first saw this movie,I also expected \"o...   1430\n",
       "5129       0  This movie is written by Charlie Higson, who h...   5129\n",
       "10324      1  This movie is really funny!! The General is Ke...  10324\n",
       "14925      1  Personal taste rules when it comes to talking ...  14925\n",
       "17698      1  I watched this movie as a child and still enjo...  17698\n",
       "22937      1  Truly I Love Lucy as well...comedic genius yes...  22937\n",
       "13442      1  Hey guys, <br /><br />i have been looking ever...  13442\n",
       "5260       0  hey ....i really do not know why this film has...   5260\n",
       "10539      1  Out of the first five episodes of Hammer's sho...  10539\n",
       "13652      1  This was my first Gaspar Noe movie I've watche...  13652\n",
       "3980       1  For the very reason that I love movies such as...   3980\n",
       "16678      1  The incomparable Paul Naschy, horror film icon...  16678\n",
       "10809      1  Saw this as previous viewer by accident, I hav...  10809\n",
       "7161       0  I wanted to like this film, and certainly ther...   7161\n",
       "14378      1  Did you know, that Anthony Kiedis, (singer fro...  14378"
      ]
     },
     "execution_count": 32,
     "metadata": {
      "tags": []
     },
     "output_type": "execute_result"
    }
   ],
   "source": [
    "test.sample(15)"
   ]
  },
  {
   "cell_type": "code",
   "execution_count": 0,
   "metadata": {
    "colab": {},
    "colab_type": "code",
    "id": "M2B3YXlDpspK"
   },
   "outputs": [],
   "source": [
    "X_test_raiting = tokenizer2.texts_to_sequences(test['txt'])\n",
    "X_unsup_raiting = tokenizer2.texts_to_sequences(unsup['txt'])\n",
    "\n",
    "X_test_raiting = sequence.pad_sequences(X_test_raiting, maxlen=max_words)\n",
    "X_unsup_raiting = sequence.pad_sequences(X_unsup_raiting, maxlen=max_words)"
   ]
  },
  {
   "cell_type": "code",
   "execution_count": 0,
   "metadata": {
    "colab": {},
    "colab_type": "code",
    "id": "dnNX-bePobei"
   },
   "outputs": [],
   "source": [
    "test['rating'] = model_rating.predict_classes(X_test_raiting, batch_size=batch_size)"
   ]
  },
  {
   "cell_type": "code",
   "execution_count": 0,
   "metadata": {
    "colab": {
     "base_uri": "https://localhost:8080/",
     "height": 514
    },
    "colab_type": "code",
    "id": "iUTJAE8AxI7T",
    "outputId": "667d0b8d-7831-4a61-994a-e81bd9d2008c"
   },
   "outputs": [
    {
     "data": {
      "text/html": [
       "<div>\n",
       "<style scoped>\n",
       "    .dataframe tbody tr th:only-of-type {\n",
       "        vertical-align: middle;\n",
       "    }\n",
       "\n",
       "    .dataframe tbody tr th {\n",
       "        vertical-align: top;\n",
       "    }\n",
       "\n",
       "    .dataframe thead th {\n",
       "        text-align: right;\n",
       "    }\n",
       "</style>\n",
       "<table border=\"1\" class=\"dataframe\">\n",
       "  <thead>\n",
       "    <tr style=\"text-align: right;\">\n",
       "      <th></th>\n",
       "      <th>label</th>\n",
       "      <th>txt</th>\n",
       "      <th>id</th>\n",
       "    </tr>\n",
       "  </thead>\n",
       "  <tbody>\n",
       "    <tr>\n",
       "      <th>33220</th>\n",
       "      <td>1</td>\n",
       "      <td>Im in one in two minds- so Ill do two reviews!...</td>\n",
       "      <td>33220</td>\n",
       "    </tr>\n",
       "    <tr>\n",
       "      <th>2219</th>\n",
       "      <td>1</td>\n",
       "      <td>In the city of Suddenly, three gangsters trap ...</td>\n",
       "      <td>2219</td>\n",
       "    </tr>\n",
       "    <tr>\n",
       "      <th>47116</th>\n",
       "      <td>0</td>\n",
       "      <td>Oh dear, what a let-down. This movie left me w...</td>\n",
       "      <td>47116</td>\n",
       "    </tr>\n",
       "    <tr>\n",
       "      <th>45385</th>\n",
       "      <td>0</td>\n",
       "      <td>Like another reviewer of this movie, I found m...</td>\n",
       "      <td>45385</td>\n",
       "    </tr>\n",
       "    <tr>\n",
       "      <th>6024</th>\n",
       "      <td>1</td>\n",
       "      <td>Vicky Lowndes (Jean Arthur) leads a normal lif...</td>\n",
       "      <td>6024</td>\n",
       "    </tr>\n",
       "    <tr>\n",
       "      <th>26181</th>\n",
       "      <td>1</td>\n",
       "      <td>Really just another attempt to squeeze some ju...</td>\n",
       "      <td>26181</td>\n",
       "    </tr>\n",
       "    <tr>\n",
       "      <th>11848</th>\n",
       "      <td>1</td>\n",
       "      <td>From the writer of Im ai ni yukimasu ( that ha...</td>\n",
       "      <td>11848</td>\n",
       "    </tr>\n",
       "    <tr>\n",
       "      <th>3710</th>\n",
       "      <td>1</td>\n",
       "      <td>This, despite its weaknesses, is quite a good ...</td>\n",
       "      <td>3710</td>\n",
       "    </tr>\n",
       "    <tr>\n",
       "      <th>4947</th>\n",
       "      <td>1</td>\n",
       "      <td>A fantasy film like 'Field of Dreams' with exc...</td>\n",
       "      <td>4947</td>\n",
       "    </tr>\n",
       "    <tr>\n",
       "      <th>44235</th>\n",
       "      <td>0</td>\n",
       "      <td>This is just another mediocre action flick wit...</td>\n",
       "      <td>44235</td>\n",
       "    </tr>\n",
       "    <tr>\n",
       "      <th>42076</th>\n",
       "      <td>0</td>\n",
       "      <td>There is a reason why certain films go straigh...</td>\n",
       "      <td>42076</td>\n",
       "    </tr>\n",
       "    <tr>\n",
       "      <th>29714</th>\n",
       "      <td>1</td>\n",
       "      <td>I was seven years old when my parents took me ...</td>\n",
       "      <td>29714</td>\n",
       "    </tr>\n",
       "    <tr>\n",
       "      <th>26291</th>\n",
       "      <td>1</td>\n",
       "      <td>First half had me laughing out of my seat. Bei...</td>\n",
       "      <td>26291</td>\n",
       "    </tr>\n",
       "    <tr>\n",
       "      <th>44488</th>\n",
       "      <td>1</td>\n",
       "      <td>This is a so-so story, with the typical formul...</td>\n",
       "      <td>44488</td>\n",
       "    </tr>\n",
       "    <tr>\n",
       "      <th>35591</th>\n",
       "      <td>0</td>\n",
       "      <td>This was the first Australian haunted house th...</td>\n",
       "      <td>35591</td>\n",
       "    </tr>\n",
       "  </tbody>\n",
       "</table>\n",
       "</div>"
      ],
      "text/plain": [
       "       label                                                txt     id\n",
       "33220      1  Im in one in two minds- so Ill do two reviews!...  33220\n",
       "2219       1  In the city of Suddenly, three gangsters trap ...   2219\n",
       "47116      0  Oh dear, what a let-down. This movie left me w...  47116\n",
       "45385      0  Like another reviewer of this movie, I found m...  45385\n",
       "6024       1  Vicky Lowndes (Jean Arthur) leads a normal lif...   6024\n",
       "26181      1  Really just another attempt to squeeze some ju...  26181\n",
       "11848      1  From the writer of Im ai ni yukimasu ( that ha...  11848\n",
       "3710       1  This, despite its weaknesses, is quite a good ...   3710\n",
       "4947       1  A fantasy film like 'Field of Dreams' with exc...   4947\n",
       "44235      0  This is just another mediocre action flick wit...  44235\n",
       "42076      0  There is a reason why certain films go straigh...  42076\n",
       "29714      1  I was seven years old when my parents took me ...  29714\n",
       "26291      1  First half had me laughing out of my seat. Bei...  26291\n",
       "44488      1  This is a so-so story, with the typical formul...  44488\n",
       "35591      0  This was the first Australian haunted house th...  35591"
      ]
     },
     "execution_count": 33,
     "metadata": {
      "tags": []
     },
     "output_type": "execute_result"
    }
   ],
   "source": [
    "unsup['id'] = unsup.index.values\n",
    "\n",
    "unsup['label'] = model.predict_classes(X_unsup, batch_size=batch_size)\n",
    "\n",
    "unsup.sample(15)"
   ]
  },
  {
   "cell_type": "code",
   "execution_count": 0,
   "metadata": {
    "colab": {},
    "colab_type": "code",
    "id": "Dy5lgf-SoY-U"
   },
   "outputs": [],
   "source": [
    "unsup['rating'] = model_rating.predict_classes(X_unsup_raiting, batch_size=batch_size)"
   ]
  },
  {
   "cell_type": "markdown",
   "metadata": {
    "colab_type": "text",
    "id": "dp6obt04xI7a"
   },
   "source": [
    "## Выгрузка ответов"
   ]
  },
  {
   "cell_type": "code",
   "execution_count": 0,
   "metadata": {
    "colab": {},
    "colab_type": "code",
    "id": "GeOpPaSExI7d"
   },
   "outputs": [],
   "source": [
    "test.to_csv('test_predictions.csv', index=False)\n",
    "unsup.to_csv('unsup_predictions.csv', index=False)"
   ]
  }
 ],
 "metadata": {
  "accelerator": "GPU",
  "colab": {
   "name": "NLPGPU.ipynb",
   "provenance": [],
   "version": "0.3.2"
  },
  "kernelspec": {
   "display_name": "Python 3",
   "language": "python",
   "name": "python3"
  },
  "language_info": {
   "codemirror_mode": {
    "name": "ipython",
    "version": 3
   },
   "file_extension": ".py",
   "mimetype": "text/x-python",
   "name": "python",
   "nbconvert_exporter": "python",
   "pygments_lexer": "ipython3",
   "version": "3.7.1"
  }
 },
 "nbformat": 4,
 "nbformat_minor": 1
}
