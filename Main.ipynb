{
 "cells": [
  {
   "cell_type": "code",
   "execution_count": 267,
   "metadata": {},
   "outputs": [],
   "source": [
    "import numpy as np\n",
    "import pandas as pd\n",
    "import matplotlib.pyplot as plt\n",
    "from sklearn.preprocessing import StandardScaler\n",
    "\n",
    "from sklearn.linear_model import LinearRegression\n",
    "from sklearn.ensemble import RandomForestRegressor\n",
    "%matplotlib inline"
   ]
  },
  {
   "cell_type": "code",
   "execution_count": 21,
   "metadata": {},
   "outputs": [],
   "source": [
    "data = pd.read_excel(r'd:\\3kurs1sem\\semestrone\\JUPYTER\\Chernetka\\GAZ\\pg.xlsx', sheet_name=None)"
   ]
  },
  {
   "cell_type": "code",
   "execution_count": 71,
   "metadata": {},
   "outputs": [
    {
     "data": {
      "text/html": [
       "<div>\n",
       "<style scoped>\n",
       "    .dataframe tbody tr th:only-of-type {\n",
       "        vertical-align: middle;\n",
       "    }\n",
       "\n",
       "    .dataframe tbody tr th {\n",
       "        vertical-align: top;\n",
       "    }\n",
       "\n",
       "    .dataframe thead th {\n",
       "        text-align: right;\n",
       "    }\n",
       "</style>\n",
       "<table border=\"1\" class=\"dataframe\">\n",
       "  <thead>\n",
       "    <tr style=\"text-align: right;\">\n",
       "      <th></th>\n",
       "      <th>План</th>\n",
       "      <th>Unnamed: 1</th>\n",
       "      <th>Unnamed: 2</th>\n",
       "      <th>Unnamed: 3</th>\n",
       "      <th>Unnamed: 4</th>\n",
       "      <th>Unnamed: 5</th>\n",
       "      <th>Unnamed: 6</th>\n",
       "      <th>Unnamed: 7</th>\n",
       "      <th>Unnamed: 8</th>\n",
       "      <th>Unnamed: 9</th>\n",
       "      <th>...</th>\n",
       "      <th>Unnamed: 24</th>\n",
       "      <th>Unnamed: 25</th>\n",
       "      <th>Unnamed: 26</th>\n",
       "      <th>Unnamed: 27</th>\n",
       "      <th>Unnamed: 28</th>\n",
       "      <th>Unnamed: 29</th>\n",
       "      <th>Unnamed: 30</th>\n",
       "      <th>Unnamed: 31</th>\n",
       "      <th>Unnamed: 32</th>\n",
       "      <th>Unnamed: 33</th>\n",
       "    </tr>\n",
       "  </thead>\n",
       "  <tbody>\n",
       "    <tr>\n",
       "      <th>3</th>\n",
       "      <td>Цех 1</td>\n",
       "      <td>тонны</td>\n",
       "      <td>9853.81</td>\n",
       "      <td>9985.940000</td>\n",
       "      <td>10118.067500</td>\n",
       "      <td>9809.770000</td>\n",
       "      <td>9650.882500</td>\n",
       "      <td>10514.450000</td>\n",
       "      <td>10646.577500</td>\n",
       "      <td>10778.705000</td>\n",
       "      <td>...</td>\n",
       "      <td>10843.375000</td>\n",
       "      <td>9761.825000</td>\n",
       "      <td>10404.06500</td>\n",
       "      <td>11178.990000</td>\n",
       "      <td>11484.500000</td>\n",
       "      <td>11924.925000</td>\n",
       "      <td>11924.925000</td>\n",
       "      <td>11924.925000</td>\n",
       "      <td>11564.780000</td>\n",
       "      <td>341045</td>\n",
       "    </tr>\n",
       "    <tr>\n",
       "      <th>11</th>\n",
       "      <td>Цех 1</td>\n",
       "      <td>22.4896</td>\n",
       "      <td>221.608</td>\n",
       "      <td>224.579297</td>\n",
       "      <td>227.550785</td>\n",
       "      <td>220.617313</td>\n",
       "      <td>217.044005</td>\n",
       "      <td>236.465249</td>\n",
       "      <td>239.436737</td>\n",
       "      <td>242.408225</td>\n",
       "      <td>...</td>\n",
       "      <td>243.862624</td>\n",
       "      <td>219.539051</td>\n",
       "      <td>233.98274</td>\n",
       "      <td>251.410455</td>\n",
       "      <td>258.281237</td>\n",
       "      <td>268.186197</td>\n",
       "      <td>268.186197</td>\n",
       "      <td>268.186197</td>\n",
       "      <td>260.086698</td>\n",
       "      <td>7669.95</td>\n",
       "    </tr>\n",
       "    <tr>\n",
       "      <th>19</th>\n",
       "      <td>Цех 1</td>\n",
       "      <td>тонны</td>\n",
       "      <td>9912.35</td>\n",
       "      <td>9707.190000</td>\n",
       "      <td>9013.660000</td>\n",
       "      <td>10022.735000</td>\n",
       "      <td>9987.055000</td>\n",
       "      <td>10528.945000</td>\n",
       "      <td>11037.385000</td>\n",
       "      <td>9789.700000</td>\n",
       "      <td>...</td>\n",
       "      <td>11222.475000</td>\n",
       "      <td>12618.455000</td>\n",
       "      <td>12724.38000</td>\n",
       "      <td>12653.020000</td>\n",
       "      <td>13223.900000</td>\n",
       "      <td>12724.380000</td>\n",
       "      <td>12671.975000</td>\n",
       "      <td>12446.745000</td>\n",
       "      <td>12484.655000</td>\n",
       "      <td>355760</td>\n",
       "    </tr>\n",
       "    <tr>\n",
       "      <th>26</th>\n",
       "      <td>Цех 1</td>\n",
       "      <td>30.9935</td>\n",
       "      <td>138.26</td>\n",
       "      <td>154.985000</td>\n",
       "      <td>162.790000</td>\n",
       "      <td>175.055000</td>\n",
       "      <td>167.250000</td>\n",
       "      <td>195.125000</td>\n",
       "      <td>178.400000</td>\n",
       "      <td>169.480000</td>\n",
       "      <td>...</td>\n",
       "      <td>460.495000</td>\n",
       "      <td>517.360000</td>\n",
       "      <td>527.39500</td>\n",
       "      <td>527.395000</td>\n",
       "      <td>514.015000</td>\n",
       "      <td>502.865000</td>\n",
       "      <td>497.290000</td>\n",
       "      <td>497.290000</td>\n",
       "      <td>410.320000</td>\n",
       "      <td>11026.2</td>\n",
       "    </tr>\n",
       "  </tbody>\n",
       "</table>\n",
       "<p>4 rows × 34 columns</p>\n",
       "</div>"
      ],
      "text/plain": [
       "     План Unnamed: 1 Unnamed: 2   Unnamed: 3    Unnamed: 4    Unnamed: 5  \\\n",
       "3   Цех 1      тонны    9853.81  9985.940000  10118.067500   9809.770000   \n",
       "11  Цех 1    22.4896    221.608   224.579297    227.550785    220.617313   \n",
       "19  Цех 1      тонны    9912.35  9707.190000   9013.660000  10022.735000   \n",
       "26  Цех 1    30.9935     138.26   154.985000    162.790000    175.055000   \n",
       "\n",
       "     Unnamed: 6    Unnamed: 7    Unnamed: 8    Unnamed: 9     ...       \\\n",
       "3   9650.882500  10514.450000  10646.577500  10778.705000     ...        \n",
       "11   217.044005    236.465249    239.436737    242.408225     ...        \n",
       "19  9987.055000  10528.945000  11037.385000   9789.700000     ...        \n",
       "26   167.250000    195.125000    178.400000    169.480000     ...        \n",
       "\n",
       "     Unnamed: 24   Unnamed: 25  Unnamed: 26   Unnamed: 27   Unnamed: 28  \\\n",
       "3   10843.375000   9761.825000  10404.06500  11178.990000  11484.500000   \n",
       "11    243.862624    219.539051    233.98274    251.410455    258.281237   \n",
       "19  11222.475000  12618.455000  12724.38000  12653.020000  13223.900000   \n",
       "26    460.495000    517.360000    527.39500    527.395000    514.015000   \n",
       "\n",
       "     Unnamed: 29   Unnamed: 30   Unnamed: 31   Unnamed: 32  Unnamed: 33  \n",
       "3   11924.925000  11924.925000  11924.925000  11564.780000       341045  \n",
       "11    268.186197    268.186197    268.186197    260.086698      7669.95  \n",
       "19  12724.380000  12671.975000  12446.745000  12484.655000       355760  \n",
       "26    502.865000    497.290000    497.290000    410.320000      11026.2  \n",
       "\n",
       "[4 rows x 34 columns]"
      ]
     },
     "execution_count": 71,
     "metadata": {},
     "output_type": "execute_result"
    }
   ],
   "source": [
    "dd[\"Январь\"].loc[dd[\"Январь\"]['План'] == \"Цех 1\",:]"
   ]
  },
  {
   "cell_type": "code",
   "execution_count": 99,
   "metadata": {},
   "outputs": [],
   "source": [
    "plane_bulky_1 = pd.DataFrame()\n",
    "plane_bulky_2 = pd.DataFrame()\n",
    "plane_bulky_3 = pd.DataFrame()\n",
    "plane_bulky_4 = pd.DataFrame()\n",
    "for month in data:\n",
    "    plane_bulky_1 = plane_bulky_1.append(pd.DataFrame(data[month].loc[dd[month]['План'] == \"Цех 1\",:].iloc[0,2:].values))\n",
    "    plane_bulky_2 = plane_bulky_2.append(pd.DataFrame(data[month].loc[dd[month]['План'] == \"Цех 2\",:].iloc[0,2:].values))\n",
    "    plane_bulky_3 = plane_bulky_3.append(pd.DataFrame(data[month].loc[dd[month]['План'] == \"Цех 3\",:].iloc[0,2:].values))\n",
    "    plane_bulky_4 = plane_bulky_4.append(pd.DataFrame(data[month].loc[dd[month]['План'] == \"Цех 4\",:].iloc[0,2:].values))\n",
    "    "
   ]
  },
  {
   "cell_type": "code",
   "execution_count": 100,
   "metadata": {},
   "outputs": [],
   "source": [
    "fact_bulky_1 = pd.DataFrame()\n",
    "fact_bulky_2 = pd.DataFrame()\n",
    "fact_bulky_3 = pd.DataFrame()\n",
    "fact_bulky_4 = pd.DataFrame()\n",
    "for month in data:\n",
    "    fact_bulky_1 = fact_bulky_1.append(pd.DataFrame(data[month].loc[dd[month]['План'] == \"Цех 1\",:].iloc[2,2:].values))\n",
    "    fact_bulky_2 = fact_bulky_2.append(pd.DataFrame(data[month].loc[dd[month]['План'] == \"Цех 2\",:].iloc[2,2:].values))\n",
    "    fact_bulky_3 = fact_bulky_3.append(pd.DataFrame(data[month].loc[dd[month]['План'] == \"Цех 3\",:].iloc[2,2:].values))\n",
    "    fact_bulky_4 = fact_bulky_4.append(pd.DataFrame(data[month].loc[dd[month]['План'] == \"Цех 4\",:].iloc[2,2:].values))"
   ]
  },
  {
   "cell_type": "code",
   "execution_count": 74,
   "metadata": {},
   "outputs": [],
   "source": [
    "plane_gas_1 = pd.DataFrame()\n",
    "plane_gas_2 = pd.DataFrame()\n",
    "plane_gas_3 = pd.DataFrame()\n",
    "plane_gas_4 = pd.DataFrame()\n",
    "for month in data:\n",
    "    plane_gas_1 = plane_gas_1.append(pd.DataFrame(data[month].loc[dd[month]['План'] == \"Цех 1\",:].iloc[1,2:].values))\n",
    "    plane_gas_2 = plane_gas_2.append(pd.DataFrame(data[month].loc[dd[month]['План'] == \"Цех 2\",:].iloc[1,2:].values))\n",
    "    plane_gas_3 = plane_gas_3.append(pd.DataFrame(data[month].loc[dd[month]['План'] == \"Цех 3\",:].iloc[1,2:].values))\n",
    "    plane_gas_4 = plane_gas_4.append(pd.DataFrame(data[month].loc[dd[month]['План'] == \"Цех 4\",:].iloc[1,2:].values))\n",
    "    "
   ]
  },
  {
   "cell_type": "code",
   "execution_count": 76,
   "metadata": {},
   "outputs": [],
   "source": [
    "fact_gas_1 = pd.DataFrame()\n",
    "fact_gas_2 = pd.DataFrame()\n",
    "fact_gas_3 = pd.DataFrame()\n",
    "fact_gas_4 = pd.DataFrame()\n",
    "for month in data:\n",
    "    fact_gas_1 = fact_gas_1.append(pd.DataFrame(data[month].loc[dd[month]['План'] == \"Цех 1\",:].iloc[3,2:].values))\n",
    "    fact_gas_2 = fact_gas_2.append(pd.DataFrame(data[month].loc[dd[month]['План'] == \"Цех 2\",:].iloc[3,2:].values))\n",
    "    fact_gas_3 = fact_gas_3.append(pd.DataFrame(data[month].loc[dd[month]['План'] == \"Цех 3\",:].iloc[3,2:].values))\n",
    "    fact_gas_4 = fact_gas_4.append(pd.DataFrame(data[month].loc[dd[month]['План'] == \"Цех 4\",:].iloc[3,2:].values))\n",
    "    "
   ]
  },
  {
   "cell_type": "markdown",
   "metadata": {},
   "source": [
    "# 1 Определение % соотношения потребителей в плановом и фактическом массиве данных;"
   ]
  },
  {
   "cell_type": "markdown",
   "metadata": {},
   "source": [
    "Цех 1"
   ]
  },
  {
   "cell_type": "code",
   "execution_count": 93,
   "metadata": {},
   "outputs": [
    {
     "data": {
      "image/png": "[encoded data removed]",
      "text/plain": [
       "<Figure size 432x288 with 1 Axes>"
      ]
     },
     "metadata": {},
     "output_type": "display_data"
    }
   ],
   "source": [
    "labels = 'Fact', 'Plane'\n",
    "sizes = [fact_gas_1.sum().values[0], plane_gas_1.sum().values[0]]\n",
    "explode = (0, 0.1)  # only \"explode\" the 2nd slice (i.e. 'Hogs')\n",
    "\n",
    "fig1, ax1 = plt.subplots()\n",
    "ax1.pie(sizes, explode=explode, labels=labels, autopct='%1.1f%%',\n",
    "        shadow=True, startangle=90)\n",
    "ax1.axis('equal')  # Equal aspect ratio ensures that pie is drawn as a circle.\n",
    "\n",
    "plt.show()"
   ]
  },
  {
   "cell_type": "markdown",
   "metadata": {},
   "source": [
    "Цех 2"
   ]
  },
  {
   "cell_type": "code",
   "execution_count": 94,
   "metadata": {},
   "outputs": [
    {
     "data": {
      "image/png": "[encoded data removed]",
      "text/plain": [
       "<Figure size 432x288 with 1 Axes>"
      ]
     },
     "metadata": {},
     "output_type": "display_data"
    }
   ],
   "source": [
    "labels = 'Fact', 'Plane'\n",
    "sizes = [fact_gas_2.sum().values[0], plane_gas_2.sum().values[0]]\n",
    "explode = (0, 0.1)  # only \"explode\" the 2nd slice (i.e. 'Hogs')\n",
    "\n",
    "fig1, ax1 = plt.subplots()\n",
    "ax1.pie(sizes, explode=explode, labels=labels, autopct='%1.1f%%',\n",
    "        shadow=True, startangle=90)\n",
    "ax1.axis('equal')  # Equal aspect ratio ensures that pie is drawn as a circle.\n",
    "\n",
    "plt.show()"
   ]
  },
  {
   "cell_type": "markdown",
   "metadata": {},
   "source": [
    "Цех 3"
   ]
  },
  {
   "cell_type": "code",
   "execution_count": 95,
   "metadata": {},
   "outputs": [
    {
     "data": {
      "image/png": "[encoded data removed]",
      "text/plain": [
       "<Figure size 432x288 with 1 Axes>"
      ]
     },
     "metadata": {},
     "output_type": "display_data"
    }
   ],
   "source": [
    "labels = 'Fact', 'Plane'\n",
    "sizes = [fact_gas_3.sum().values[0], plane_gas_3.sum().values[0]]\n",
    "explode = (0, 0.1)  # only \"explode\" the 2nd slice (i.e. 'Hogs')\n",
    "\n",
    "fig1, ax1 = plt.subplots()\n",
    "ax1.pie(sizes, explode=explode, labels=labels, autopct='%1.1f%%',\n",
    "        shadow=True, startangle=90)\n",
    "ax1.axis('equal')  # Equal aspect ratio ensures that pie is drawn as a circle.\n",
    "\n",
    "plt.show()"
   ]
  },
  {
   "cell_type": "markdown",
   "metadata": {},
   "source": [
    "Цех 4"
   ]
  },
  {
   "cell_type": "code",
   "execution_count": 96,
   "metadata": {},
   "outputs": [
    {
     "data": {
      "image/png": "[encoded data removed]",
      "text/plain": [
       "<Figure size 432x288 with 1 Axes>"
      ]
     },
     "metadata": {},
     "output_type": "display_data"
    }
   ],
   "source": [
    "labels = 'Fact', 'Plane'\n",
    "sizes = [fact_gas_4.sum().values[0], plane_gas_4.sum().values[0]]\n",
    "explode = (0, 0.1)  # only \"explode\" the 2nd slice (i.e. 'Hogs')\n",
    "\n",
    "fig1, ax1 = plt.subplots()\n",
    "ax1.pie(sizes, explode=explode, labels=labels, autopct='%1.1f%%',\n",
    "        shadow=True, startangle=90)\n",
    "ax1.axis('equal')  # Equal aspect ratio ensures that pie is drawn as a circle.\n",
    "\n",
    "plt.show()"
   ]
  },
  {
   "cell_type": "markdown",
   "metadata": {},
   "source": [
    "# 2 Определение % соотношения потребителей в плановом и фактическом массиве данных;"
   ]
  },
  {
   "cell_type": "code",
   "execution_count": 115,
   "metadata": {},
   "outputs": [],
   "source": [
    "plane_bulky_gas_1 = pd.concat([plane_bulky_1, plane_gas_1], axis=1, join_axes=[plane_bulky_1.index])\n",
    "plane_bulky_gas_2 = pd.concat([plane_bulky_2, plane_gas_1], axis=1, join_axes=[plane_bulky_2.index])\n",
    "plane_bulky_gas_3 = pd.concat([plane_bulky_3, plane_gas_1], axis=1, join_axes=[plane_bulky_3.index])\n",
    "plane_bulky_gas_4 = pd.concat([plane_bulky_4, plane_gas_1], axis=1, join_axes=[plane_bulky_4.index])"
   ]
  },
  {
   "cell_type": "code",
   "execution_count": 144,
   "metadata": {},
   "outputs": [],
   "source": [
    "fact_bulky_gas_1 = pd.concat([fact_bulky_1, fact_gas_1], axis=1, join_axes=[fact_bulky_1.index])\n",
    "fact_bulky_gas_2 = pd.concat([fact_bulky_2, fact_gas_1], axis=1, join_axes=[fact_bulky_2.index])\n",
    "fact_bulky_gas_3 = pd.concat([fact_bulky_3, fact_gas_1], axis=1, join_axes=[fact_bulky_3.index])\n",
    "fact_bulky_gas_4 = pd.concat([fact_bulky_4, fact_gas_1], axis=1, join_axes=[fact_bulky_4.index])"
   ]
  },
  {
   "cell_type": "code",
   "execution_count": 139,
   "metadata": {},
   "outputs": [],
   "source": [
    "plane_bulky_gas_1.columns = [\"Gas\",\"Manufaactur\"]\n",
    "plane_bulky_gas_1 = plane_bulky_gas_1.astype(float)\n",
    "\n",
    "plane_bulky_gas_2.columns = [\"Gas\",\"Manufaactur\"]\n",
    "plane_bulky_gas_2 = plane_bulky_gas_2.astype(float)\n",
    "\n",
    "plane_bulky_gas_3.columns = [\"Gas\",\"Manufaactur\"]\n",
    "plane_bulky_gas_3 = plane_bulky_gas_3.astype(float)\n",
    "\n",
    "plane_bulky_gas_4.columns = [\"Gas\",\"Manufaactur\"]\n",
    "plane_bulky_gas_4 = plane_bulky_gas_4.astype(float)"
   ]
  },
  {
   "cell_type": "code",
   "execution_count": 145,
   "metadata": {},
   "outputs": [],
   "source": [
    "fact_bulky_gas_1.columns = [\"Gas\",\"Manufaactur\"]\n",
    "fact_bulky_gas_1 = fact_bulky_gas_1.astype(float)\n",
    "\n",
    "fact_bulky_gas_2.columns = [\"Gas\",\"Manufaactur\"]\n",
    "fact_bulky_gas_2 = fact_bulky_gas_2.astype(float)\n",
    "\n",
    "fact_bulky_gas_3.columns = [\"Gas\",\"Manufaactur\"]\n",
    "fact_bulky_gas_3 = fact_bulky_gas_3.astype(float)\n",
    "\n",
    "fact_bulky_gas_4.columns = [\"Gas\",\"Manufaactur\"]\n",
    "fact_bulky_gas_4 = fact_bulky_gas_4.astype(float)"
   ]
  },
  {
   "cell_type": "markdown",
   "metadata": {},
   "source": [
    "### План"
   ]
  },
  {
   "cell_type": "markdown",
   "metadata": {},
   "source": [
    "Цех 1"
   ]
  },
  {
   "cell_type": "code",
   "execution_count": 140,
   "metadata": {},
   "outputs": [
    {
     "data": {
      "text/html": [
       "<div>\n",
       "<style scoped>\n",
       "    .dataframe tbody tr th:only-of-type {\n",
       "        vertical-align: middle;\n",
       "    }\n",
       "\n",
       "    .dataframe tbody tr th {\n",
       "        vertical-align: top;\n",
       "    }\n",
       "\n",
       "    .dataframe thead th {\n",
       "        text-align: right;\n",
       "    }\n",
       "</style>\n",
       "<table border=\"1\" class=\"dataframe\">\n",
       "  <thead>\n",
       "    <tr style=\"text-align: right;\">\n",
       "      <th></th>\n",
       "      <th>Gas</th>\n",
       "      <th>Manufaactur</th>\n",
       "    </tr>\n",
       "  </thead>\n",
       "  <tbody>\n",
       "    <tr>\n",
       "      <th>Gas</th>\n",
       "      <td>1.000000</td>\n",
       "      <td>0.900472</td>\n",
       "    </tr>\n",
       "    <tr>\n",
       "      <th>Manufaactur</th>\n",
       "      <td>0.900472</td>\n",
       "      <td>1.000000</td>\n",
       "    </tr>\n",
       "  </tbody>\n",
       "</table>\n",
       "</div>"
      ],
      "text/plain": [
       "                  Gas  Manufaactur\n",
       "Gas          1.000000     0.900472\n",
       "Manufaactur  0.900472     1.000000"
      ]
     },
     "execution_count": 140,
     "metadata": {},
     "output_type": "execute_result"
    }
   ],
   "source": [
    "plane_bulky_gas_1.corr()"
   ]
  },
  {
   "cell_type": "markdown",
   "metadata": {},
   "source": [
    "Цех 2"
   ]
  },
  {
   "cell_type": "code",
   "execution_count": 141,
   "metadata": {},
   "outputs": [
    {
     "data": {
      "text/html": [
       "<div>\n",
       "<style scoped>\n",
       "    .dataframe tbody tr th:only-of-type {\n",
       "        vertical-align: middle;\n",
       "    }\n",
       "\n",
       "    .dataframe tbody tr th {\n",
       "        vertical-align: top;\n",
       "    }\n",
       "\n",
       "    .dataframe thead th {\n",
       "        text-align: right;\n",
       "    }\n",
       "</style>\n",
       "<table border=\"1\" class=\"dataframe\">\n",
       "  <thead>\n",
       "    <tr style=\"text-align: right;\">\n",
       "      <th></th>\n",
       "      <th>Gas</th>\n",
       "      <th>Manufaactur</th>\n",
       "    </tr>\n",
       "  </thead>\n",
       "  <tbody>\n",
       "    <tr>\n",
       "      <th>Gas</th>\n",
       "      <td>1.00000</td>\n",
       "      <td>0.81843</td>\n",
       "    </tr>\n",
       "    <tr>\n",
       "      <th>Manufaactur</th>\n",
       "      <td>0.81843</td>\n",
       "      <td>1.00000</td>\n",
       "    </tr>\n",
       "  </tbody>\n",
       "</table>\n",
       "</div>"
      ],
      "text/plain": [
       "                 Gas  Manufaactur\n",
       "Gas          1.00000      0.81843\n",
       "Manufaactur  0.81843      1.00000"
      ]
     },
     "execution_count": 141,
     "metadata": {},
     "output_type": "execute_result"
    }
   ],
   "source": [
    "plane_bulky_gas_2.corr()"
   ]
  },
  {
   "cell_type": "markdown",
   "metadata": {},
   "source": [
    "Цех 3"
   ]
  },
  {
   "cell_type": "code",
   "execution_count": 142,
   "metadata": {},
   "outputs": [
    {
     "data": {
      "text/html": [
       "<div>\n",
       "<style scoped>\n",
       "    .dataframe tbody tr th:only-of-type {\n",
       "        vertical-align: middle;\n",
       "    }\n",
       "\n",
       "    .dataframe tbody tr th {\n",
       "        vertical-align: top;\n",
       "    }\n",
       "\n",
       "    .dataframe thead th {\n",
       "        text-align: right;\n",
       "    }\n",
       "</style>\n",
       "<table border=\"1\" class=\"dataframe\">\n",
       "  <thead>\n",
       "    <tr style=\"text-align: right;\">\n",
       "      <th></th>\n",
       "      <th>Gas</th>\n",
       "      <th>Manufaactur</th>\n",
       "    </tr>\n",
       "  </thead>\n",
       "  <tbody>\n",
       "    <tr>\n",
       "      <th>Gas</th>\n",
       "      <td>1.000000</td>\n",
       "      <td>0.864839</td>\n",
       "    </tr>\n",
       "    <tr>\n",
       "      <th>Manufaactur</th>\n",
       "      <td>0.864839</td>\n",
       "      <td>1.000000</td>\n",
       "    </tr>\n",
       "  </tbody>\n",
       "</table>\n",
       "</div>"
      ],
      "text/plain": [
       "                  Gas  Manufaactur\n",
       "Gas          1.000000     0.864839\n",
       "Manufaactur  0.864839     1.000000"
      ]
     },
     "execution_count": 142,
     "metadata": {},
     "output_type": "execute_result"
    }
   ],
   "source": [
    "plane_bulky_gas_3.corr()"
   ]
  },
  {
   "cell_type": "markdown",
   "metadata": {},
   "source": [
    "Цех 4"
   ]
  },
  {
   "cell_type": "code",
   "execution_count": 143,
   "metadata": {},
   "outputs": [
    {
     "data": {
      "text/html": [
       "<div>\n",
       "<style scoped>\n",
       "    .dataframe tbody tr th:only-of-type {\n",
       "        vertical-align: middle;\n",
       "    }\n",
       "\n",
       "    .dataframe tbody tr th {\n",
       "        vertical-align: top;\n",
       "    }\n",
       "\n",
       "    .dataframe thead th {\n",
       "        text-align: right;\n",
       "    }\n",
       "</style>\n",
       "<table border=\"1\" class=\"dataframe\">\n",
       "  <thead>\n",
       "    <tr style=\"text-align: right;\">\n",
       "      <th></th>\n",
       "      <th>Gas</th>\n",
       "      <th>Manufaactur</th>\n",
       "    </tr>\n",
       "  </thead>\n",
       "  <tbody>\n",
       "    <tr>\n",
       "      <th>Gas</th>\n",
       "      <td>1.000000</td>\n",
       "      <td>0.862425</td>\n",
       "    </tr>\n",
       "    <tr>\n",
       "      <th>Manufaactur</th>\n",
       "      <td>0.862425</td>\n",
       "      <td>1.000000</td>\n",
       "    </tr>\n",
       "  </tbody>\n",
       "</table>\n",
       "</div>"
      ],
      "text/plain": [
       "                  Gas  Manufaactur\n",
       "Gas          1.000000     0.862425\n",
       "Manufaactur  0.862425     1.000000"
      ]
     },
     "execution_count": 143,
     "metadata": {},
     "output_type": "execute_result"
    }
   ],
   "source": [
    "plane_bulky_gas_4.corr()"
   ]
  },
  {
   "cell_type": "markdown",
   "metadata": {},
   "source": [
    "### Факт"
   ]
  },
  {
   "cell_type": "markdown",
   "metadata": {},
   "source": [
    "Цех 1"
   ]
  },
  {
   "cell_type": "code",
   "execution_count": 146,
   "metadata": {},
   "outputs": [
    {
     "data": {
      "text/html": [
       "<div>\n",
       "<style scoped>\n",
       "    .dataframe tbody tr th:only-of-type {\n",
       "        vertical-align: middle;\n",
       "    }\n",
       "\n",
       "    .dataframe tbody tr th {\n",
       "        vertical-align: top;\n",
       "    }\n",
       "\n",
       "    .dataframe thead th {\n",
       "        text-align: right;\n",
       "    }\n",
       "</style>\n",
       "<table border=\"1\" class=\"dataframe\">\n",
       "  <thead>\n",
       "    <tr style=\"text-align: right;\">\n",
       "      <th></th>\n",
       "      <th>Gas</th>\n",
       "      <th>Manufaactur</th>\n",
       "    </tr>\n",
       "  </thead>\n",
       "  <tbody>\n",
       "    <tr>\n",
       "      <th>Gas</th>\n",
       "      <td>1.000000</td>\n",
       "      <td>0.910991</td>\n",
       "    </tr>\n",
       "    <tr>\n",
       "      <th>Manufaactur</th>\n",
       "      <td>0.910991</td>\n",
       "      <td>1.000000</td>\n",
       "    </tr>\n",
       "  </tbody>\n",
       "</table>\n",
       "</div>"
      ],
      "text/plain": [
       "                  Gas  Manufaactur\n",
       "Gas          1.000000     0.910991\n",
       "Manufaactur  0.910991     1.000000"
      ]
     },
     "execution_count": 146,
     "metadata": {},
     "output_type": "execute_result"
    }
   ],
   "source": [
    "fact_bulky_gas_1.corr()"
   ]
  },
  {
   "cell_type": "markdown",
   "metadata": {},
   "source": [
    "Цех 2"
   ]
  },
  {
   "cell_type": "code",
   "execution_count": 147,
   "metadata": {},
   "outputs": [
    {
     "data": {
      "text/html": [
       "<div>\n",
       "<style scoped>\n",
       "    .dataframe tbody tr th:only-of-type {\n",
       "        vertical-align: middle;\n",
       "    }\n",
       "\n",
       "    .dataframe tbody tr th {\n",
       "        vertical-align: top;\n",
       "    }\n",
       "\n",
       "    .dataframe thead th {\n",
       "        text-align: right;\n",
       "    }\n",
       "</style>\n",
       "<table border=\"1\" class=\"dataframe\">\n",
       "  <thead>\n",
       "    <tr style=\"text-align: right;\">\n",
       "      <th></th>\n",
       "      <th>Gas</th>\n",
       "      <th>Manufaactur</th>\n",
       "    </tr>\n",
       "  </thead>\n",
       "  <tbody>\n",
       "    <tr>\n",
       "      <th>Gas</th>\n",
       "      <td>1.000000</td>\n",
       "      <td>0.829601</td>\n",
       "    </tr>\n",
       "    <tr>\n",
       "      <th>Manufaactur</th>\n",
       "      <td>0.829601</td>\n",
       "      <td>1.000000</td>\n",
       "    </tr>\n",
       "  </tbody>\n",
       "</table>\n",
       "</div>"
      ],
      "text/plain": [
       "                  Gas  Manufaactur\n",
       "Gas          1.000000     0.829601\n",
       "Manufaactur  0.829601     1.000000"
      ]
     },
     "execution_count": 147,
     "metadata": {},
     "output_type": "execute_result"
    }
   ],
   "source": [
    "fact_bulky_gas_2.corr()"
   ]
  },
  {
   "cell_type": "markdown",
   "metadata": {},
   "source": [
    "Цех 3"
   ]
  },
  {
   "cell_type": "code",
   "execution_count": 148,
   "metadata": {},
   "outputs": [
    {
     "data": {
      "text/html": [
       "<div>\n",
       "<style scoped>\n",
       "    .dataframe tbody tr th:only-of-type {\n",
       "        vertical-align: middle;\n",
       "    }\n",
       "\n",
       "    .dataframe tbody tr th {\n",
       "        vertical-align: top;\n",
       "    }\n",
       "\n",
       "    .dataframe thead th {\n",
       "        text-align: right;\n",
       "    }\n",
       "</style>\n",
       "<table border=\"1\" class=\"dataframe\">\n",
       "  <thead>\n",
       "    <tr style=\"text-align: right;\">\n",
       "      <th></th>\n",
       "      <th>Gas</th>\n",
       "      <th>Manufaactur</th>\n",
       "    </tr>\n",
       "  </thead>\n",
       "  <tbody>\n",
       "    <tr>\n",
       "      <th>Gas</th>\n",
       "      <td>1.000000</td>\n",
       "      <td>0.880295</td>\n",
       "    </tr>\n",
       "    <tr>\n",
       "      <th>Manufaactur</th>\n",
       "      <td>0.880295</td>\n",
       "      <td>1.000000</td>\n",
       "    </tr>\n",
       "  </tbody>\n",
       "</table>\n",
       "</div>"
      ],
      "text/plain": [
       "                  Gas  Manufaactur\n",
       "Gas          1.000000     0.880295\n",
       "Manufaactur  0.880295     1.000000"
      ]
     },
     "execution_count": 148,
     "metadata": {},
     "output_type": "execute_result"
    }
   ],
   "source": [
    "fact_bulky_gas_3.corr()"
   ]
  },
  {
   "cell_type": "markdown",
   "metadata": {},
   "source": [
    "Цех 4 (Данных нету по 4 цеху)"
   ]
  },
  {
   "cell_type": "markdown",
   "metadata": {},
   "source": [
    "# Предикт потребления газа, исходя из объёма производства"
   ]
  },
  {
   "cell_type": "code",
   "execution_count": 162,
   "metadata": {},
   "outputs": [],
   "source": [
    "plane_bulky_gas_1.fillna(plane_bulky_gas_1.median().Gas, inplace=True)"
   ]
  },
  {
   "cell_type": "code",
   "execution_count": 165,
   "metadata": {},
   "outputs": [],
   "source": [
    "plane_bulky_gas_2.fillna(plane_bulky_gas_2.median().Gas, inplace=True)"
   ]
  },
  {
   "cell_type": "code",
   "execution_count": 167,
   "metadata": {},
   "outputs": [],
   "source": [
    "plane_bulky_gas_3.fillna(plane_bulky_gas_3.median().Gas, inplace=True)"
   ]
  },
  {
   "cell_type": "code",
   "execution_count": 169,
   "metadata": {},
   "outputs": [],
   "source": [
    "plane_bulky_gas_4.fillna(plane_bulky_gas_4.median().Gas, inplace=True)"
   ]
  },
  {
   "cell_type": "code",
   "execution_count": 176,
   "metadata": {},
   "outputs": [],
   "source": [
    "fact_bulky_gas_1.Gas.fillna(fact_bulky_gas_1.median().Gas,inplace=True)\n",
    "fact_bulky_gas_1.Manufaactur.fillna(fact_bulky_gas_1.median().Manufaactur,inplace=True)"
   ]
  },
  {
   "cell_type": "code",
   "execution_count": 179,
   "metadata": {},
   "outputs": [],
   "source": [
    "fact_bulky_gas_2.Gas.fillna(fact_bulky_gas_2.median().Gas,inplace=True)\n",
    "fact_bulky_gas_2.Manufaactur.fillna(fact_bulky_gas_2.median().Manufaactur,inplace=True)"
   ]
  },
  {
   "cell_type": "code",
   "execution_count": 181,
   "metadata": {},
   "outputs": [],
   "source": [
    "fact_bulky_gas_3.Gas.fillna(fact_bulky_gas_3.median().Gas,inplace=True)\n",
    "fact_bulky_gas_3.Manufaactur.fillna(fact_bulky_gas_3.median().Manufaactur,inplace=True)"
   ]
  },
  {
   "cell_type": "markdown",
   "metadata": {},
   "source": [
    "# Предикт сколько газа будет расходовано цехом"
   ]
  },
  {
   "cell_type": "code",
   "execution_count": 262,
   "metadata": {},
   "outputs": [],
   "source": [
    "scal = StandardScaler()\n",
    "fact_bulky_gas_1 = fact_bulky_gas_1.iloc[:-1,:]\n",
    "X_data = fact_bulky_gas_1.iloc[:,1]\n",
    "y_data = fact_bulky_gas_1.iloc[:,0]\n",
    "X_scaled = scal.fit_transform(pd.DataFrame(X_data))"
   ]
  },
  {
   "cell_type": "code",
   "execution_count": 268,
   "metadata": {},
   "outputs": [],
   "source": [
    "lr = RandomForestRegressor()"
   ]
  },
  {
   "cell_type": "code",
   "execution_count": 269,
   "metadata": {},
   "outputs": [
    {
     "name": "stderr",
     "output_type": "stream",
     "text": [
      "D:\\3kurs1sem\\IDEs\\lib\\site-packages\\ipykernel_launcher.py:1: DataConversionWarning: A column-vector y was passed when a 1d array was expected. Please change the shape of y to (n_samples,), for example using ravel().\n",
      "  \"\"\"Entry point for launching an IPython kernel.\n"
     ]
    },
    {
     "data": {
      "text/plain": [
       "RandomForestRegressor(bootstrap=True, criterion='mse', max_depth=None,\n",
       "           max_features='auto', max_leaf_nodes=None,\n",
       "           min_impurity_decrease=0.0, min_impurity_split=None,\n",
       "           min_samples_leaf=1, min_samples_split=2,\n",
       "           min_weight_fraction_leaf=0.0, n_estimators=10, n_jobs=1,\n",
       "           oob_score=False, random_state=None, verbose=0, warm_start=False)"
      ]
     },
     "execution_count": 269,
     "metadata": {},
     "output_type": "execute_result"
    }
   ],
   "source": [
    "lr.fit(pd.DataFrame(X_scaled), pd.DataFrame(y_data))"
   ]
  },
  {
   "cell_type": "code",
   "execution_count": 271,
   "metadata": {},
   "outputs": [
    {
     "data": {
      "text/plain": [
       "array([11358.11475])"
      ]
     },
     "execution_count": 271,
     "metadata": {},
     "output_type": "execute_result"
    }
   ],
   "source": [
    "X_test = scal.transform(202.9)\n",
    "lr.predict(X_test)"
   ]
  },
  {
   "cell_type": "code",
   "execution_count": null,
   "metadata": {},
   "outputs": [],
   "source": []
  }
 ],
 "metadata": {
  "kernelspec": {
   "display_name": "Python 3",
   "language": "python",
   "name": "python3"
  },
  "language_info": {
   "codemirror_mode": {
    "name": "ipython",
    "version": 3
   },
   "file_extension": ".py",
   "mimetype": "text/x-python",
   "name": "python",
   "nbconvert_exporter": "python",
   "pygments_lexer": "ipython3",
   "version": "3.6.5"
  }
 },
 "nbformat": 4,
 "nbformat_minor": 2
}
